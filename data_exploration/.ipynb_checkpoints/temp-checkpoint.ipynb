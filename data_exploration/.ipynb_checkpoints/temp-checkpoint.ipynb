{
 "cells": [
  {
   "cell_type": "code",
   "execution_count": 3,
   "id": "c610e624-9f4d-4245-97ac-e2bac4e04193",
   "metadata": {},
   "outputs": [
    {
     "ename": "SyntaxError",
     "evalue": "invalid syntax (1301273796.py, line 8)",
     "output_type": "error",
     "traceback": [
      "\u001b[0;36m  Cell \u001b[0;32mIn[3], line 8\u001b[0;36m\u001b[0m\n\u001b[0;31m    import ../constants\u001b[0m\n\u001b[0m           ^\u001b[0m\n\u001b[0;31mSyntaxError\u001b[0m\u001b[0;31m:\u001b[0m invalid syntax\n"
     ]
    }
   ],
   "source": [
    "import math\n",
    "import pickle\n",
    "from matplotlib import pyplot as plt\n",
    "import torch\n",
    "import torch.nn as nn\n",
    "import torch.nn.functional as F\n",
    "import pandas as pd\n",
    "import ../constants\n",
    "from sklearn.model_selection import KFold\n",
    "from torch.utils.data import DataLoader, SubsetRandomSampler\n",
    "from model import TextClassifier\n",
    "from torch.optim import AdamW\n",
    "from torch.optim.lr_scheduler import OneCycleLR\n",
    "\n",
    "from dataset.news_dataset import NewsDataset\n",
    "from dataset.preprocessing import collate_batch, get_vocab_size\n",
    "\n",
    "from vissualize.plot import plot_learning_curve, plot_gradients, plot_ud_ratios\n",
    "\n",
    "from torch.cuda.amp import autocast, GradScaler\n",
    "\n",
    "from colorama import Fore, Style, init\n",
    "\n",
    "\n",
    "\n",
    "def fine_tune(df, device, epochs=20, percent_to_train=0.5):\n",
    "    \"\"\"Fine-tune the model on the scraped data.\"\"\"\n",
    "    print(f\"{Fore.YELLOW}Fine-tuning the model on {device}...{Style.RESET_ALL}\")\n",
    "    # Load the model\n",
    "    model = TextClassifier(get_vocab_size(), embed_dim, num_class, num_heads=num_heads, dropout_rate=dropout_rate, layer_size=layer_size, number_of_layers=number_of_layers)\n",
    "    model.load_state_dict(torch.load('./results/best_model.pth'))\n",
    "    model = model.to(device)\n",
    "\n",
    "    \n",
    "    # Split the data to percent_to_train for training\n",
    "    df = df.sample(frac=1).reset_index(drop=True) # Shuffle the data\n",
    "    train_size = int(percent_to_train * len(df))\n",
    "\n",
    "    df = df[:train_size]\n",
    "\n",
    "    fine_tune_dataset = NewsDataset(df['body'].reset_index(drop=True), df['Category'].reset_index(drop=True))\n",
    "    fine_tune_loader = DataLoader(fine_tune_dataset, batch_size=constants.batch_size, collate_fn=collate_batch)\n",
    "    \n",
    "    optimizer = AdamW(model.parameters(), lr=constants.lr, weight_decay=1e-2)\n",
    "    scheduler = OneCycleLR(optimizer, max_lr=1e-2, steps_per_epoch=len(fine_tune_loader), epochs=epochs)\n",
    "    loss_fn = nn.CrossEntropyLoss()\n",
    "\n",
    "    best_loss = float('inf')\n",
    "\n",
    "    model.train()\n",
    "    total_loss, total_count = 0.0, 0\n",
    "    for epoch in range(epochs):\n",
    "        for X, y in fine_tune_loader:\n",
    "            X, y = X.to(device), y.to(device)\n",
    "            pred = model(X)\n",
    "            loss = loss_fn(pred, y)\n",
    "            optimizer.zero_grad()\n",
    "            loss.backward()\n",
    "            optimizer.step()\n",
    "            total_loss += loss.item() * X.size(0)\n",
    "            total_count += X.size(0)\n",
    "            if total_loss < best_loss:\n",
    "                best_loss = total_loss\n",
    "                torch.save(model.state_dict(), './results/fine_tuned_model.pth')\n",
    "        print(f'Epoch {epoch+1}/{epochs}: Training Loss = {total_loss / total_count:.6f}')\n",
    "        scheduler.step()"
   ]
  },
  {
   "cell_type": "code",
   "execution_count": null,
   "id": "b1a888c8-1a0b-423f-b774-03ec6599d06c",
   "metadata": {},
   "outputs": [],
   "source": []
  }
 ],
 "metadata": {
  "kernelspec": {
   "display_name": "Python 3 (ipykernel)",
   "language": "python",
   "name": "python3"
  },
  "language_info": {
   "codemirror_mode": {
    "name": "ipython",
    "version": 3
   },
   "file_extension": ".py",
   "mimetype": "text/x-python",
   "name": "python",
   "nbconvert_exporter": "python",
   "pygments_lexer": "ipython3",
   "version": "3.11.7"
  }
 },
 "nbformat": 4,
 "nbformat_minor": 5
}
