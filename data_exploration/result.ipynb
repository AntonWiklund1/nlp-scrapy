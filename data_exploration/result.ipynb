{
 "cells": [
  {
   "cell_type": "code",
   "execution_count": 1,
   "id": "04c654f1-005e-4424-aac9-e541baf773fc",
   "metadata": {},
   "outputs": [],
   "source": [
    "import pandas as pd"
   ]
  },
  {
   "cell_type": "code",
   "execution_count": 6,
   "id": "eef92bbb-3998-4d09-81ac-fcf5cad29531",
   "metadata": {},
   "outputs": [],
   "source": [
    "df = pd.read_csv('../data/scraped/bbc_articles.csv')"
   ]
  },
  {
   "cell_type": "code",
   "execution_count": 7,
   "id": "dc37bc54-126c-41f4-b01a-ae2c97fbf26e",
   "metadata": {},
   "outputs": [
    {
     "data": {
      "text/plain": [
       "Index(['id', 'headline', 'body', 'time', 'url', 'Category'], dtype='object')"
      ]
     },
     "execution_count": 7,
     "metadata": {},
     "output_type": "execute_result"
    }
   ],
   "source": [
    "df.columns"
   ]
  },
  {
   "cell_type": "code",
   "execution_count": 8,
   "id": "4b106ae5-18be-46d2-99b5-1d833b0f7a9f",
   "metadata": {},
   "outputs": [
    {
     "data": {
      "text/plain": [
       "time\n",
       "2024-04-30    61\n",
       "2024-05-01    47\n",
       "2024-05-02    36\n",
       "2024-05-03    24\n",
       "2024-04-26    21\n",
       "2024-04-17    19\n",
       "2024-05-04    18\n",
       "2024-04-29    17\n",
       "2024-04-25    12\n",
       "2024-04-22    12\n",
       "2024-04-18     9\n",
       "2024-05-05     9\n",
       "2024-04-28     9\n",
       "2024-04-24     8\n",
       "2024-04-23     8\n",
       "2024-04-04     7\n",
       "2024-04-19     7\n",
       "2024-04-27     7\n",
       "2024-04-21     5\n",
       "2024-04-20     5\n",
       "2024-04-08     4\n",
       "2024-04-11     3\n",
       "2024-04-06     3\n",
       "2024-04-02     3\n",
       "2024-04-13     3\n",
       "2024-04-12     2\n",
       "2024-04-03     2\n",
       "2024-04-14     1\n",
       "2024-04-07     1\n",
       "2024-04-15     1\n",
       "2024-04-05     1\n",
       "2024-04-16     1\n",
       "2024-05-06     1\n",
       "Name: count, dtype: int64"
      ]
     },
     "execution_count": 8,
     "metadata": {},
     "output_type": "execute_result"
    }
   ],
   "source": [
    "df['time'].value_counts()"
   ]
  },
  {
   "cell_type": "code",
   "execution_count": null,
   "id": "996256b6-0f8b-4cd4-a9b4-9909fea162c0",
   "metadata": {},
   "outputs": [],
   "source": []
  }
 ],
 "metadata": {
  "kernelspec": {
   "display_name": "Python 3 (ipykernel)",
   "language": "python",
   "name": "python3"
  },
  "language_info": {
   "codemirror_mode": {
    "name": "ipython",
    "version": 3
   },
   "file_extension": ".py",
   "mimetype": "text/x-python",
   "name": "python",
   "nbconvert_exporter": "python",
   "pygments_lexer": "ipython3",
   "version": "3.11.7"
  }
 },
 "nbformat": 4,
 "nbformat_minor": 5
}
