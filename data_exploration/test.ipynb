{
 "cells": [
  {
   "cell_type": "code",
   "execution_count": 1,
   "id": "fb38358d-56f5-4019-aa80-f6d2fbb706d7",
   "metadata": {},
   "outputs": [],
   "source": [
    "import pandas as pd"
   ]
  },
  {
   "cell_type": "code",
   "execution_count": 2,
   "id": "f0e68d60-7934-427b-976d-55470b4205dd",
   "metadata": {},
   "outputs": [
    {
     "data": {
      "text/html": [
       "<div>\n",
       "<style scoped>\n",
       "    .dataframe tbody tr th:only-of-type {\n",
       "        vertical-align: middle;\n",
       "    }\n",
       "\n",
       "    .dataframe tbody tr th {\n",
       "        vertical-align: top;\n",
       "    }\n",
       "\n",
       "    .dataframe thead th {\n",
       "        text-align: right;\n",
       "    }\n",
       "</style>\n",
       "<table border=\"1\" class=\"dataframe\">\n",
       "  <thead>\n",
       "    <tr style=\"text-align: right;\">\n",
       "      <th></th>\n",
       "      <th>Text</th>\n",
       "      <th>Category</th>\n",
       "    </tr>\n",
       "  </thead>\n",
       "  <tbody>\n",
       "    <tr>\n",
       "      <th>0</th>\n",
       "      <td>Elon Musk, Amber Heard Something's Fishy On Wr...</td>\n",
       "      <td>Entertainment</td>\n",
       "    </tr>\n",
       "    <tr>\n",
       "      <th>1</th>\n",
       "      <td>Scientists are developing more than 100 corona...</td>\n",
       "      <td>science</td>\n",
       "    </tr>\n",
       "    <tr>\n",
       "      <th>2</th>\n",
       "      <td>Jared Fogle Shut Down By Judge In Bid for Earl...</td>\n",
       "      <td>Entertainment</td>\n",
       "    </tr>\n",
       "    <tr>\n",
       "      <th>3</th>\n",
       "      <td>The agency had come under fire from members of...</td>\n",
       "      <td>Health</td>\n",
       "    </tr>\n",
       "    <tr>\n",
       "      <th>4</th>\n",
       "      <td>Credit...Jim Wilson/The New York TimesJune 30,...</td>\n",
       "      <td>Politics</td>\n",
       "    </tr>\n",
       "    <tr>\n",
       "      <th>...</th>\n",
       "      <td>...</td>\n",
       "      <td>...</td>\n",
       "    </tr>\n",
       "    <tr>\n",
       "      <th>3717</th>\n",
       "      <td>Credit...University of North CarolinaFeb. 3, 2...</td>\n",
       "      <td>Sports</td>\n",
       "    </tr>\n",
       "    <tr>\n",
       "      <th>3718</th>\n",
       "      <td>The vice president will preside on Wednesday w...</td>\n",
       "      <td>Politics</td>\n",
       "    </tr>\n",
       "    <tr>\n",
       "      <th>3719</th>\n",
       "      <td>Credit...Todd Heisler/The New York TimesNov. 1...</td>\n",
       "      <td>Health</td>\n",
       "    </tr>\n",
       "    <tr>\n",
       "      <th>3720</th>\n",
       "      <td>DealBook|I.P.O.s in U.S. End Weak Year With an...</td>\n",
       "      <td>Business</td>\n",
       "    </tr>\n",
       "    <tr>\n",
       "      <th>3721</th>\n",
       "      <td>An H.I.V. infection increases the odds of dyin...</td>\n",
       "      <td>Health</td>\n",
       "    </tr>\n",
       "  </tbody>\n",
       "</table>\n",
       "<p>3722 rows × 2 columns</p>\n",
       "</div>"
      ],
      "text/plain": [
       "                                                   Text       Category\n",
       "0     Elon Musk, Amber Heard Something's Fishy On Wr...  Entertainment\n",
       "1     Scientists are developing more than 100 corona...        science\n",
       "2     Jared Fogle Shut Down By Judge In Bid for Earl...  Entertainment\n",
       "3     The agency had come under fire from members of...         Health\n",
       "4     Credit...Jim Wilson/The New York TimesJune 30,...       Politics\n",
       "...                                                 ...            ...\n",
       "3717  Credit...University of North CarolinaFeb. 3, 2...         Sports\n",
       "3718  The vice president will preside on Wednesday w...       Politics\n",
       "3719  Credit...Todd Heisler/The New York TimesNov. 1...         Health\n",
       "3720  DealBook|I.P.O.s in U.S. End Weak Year With an...       Business\n",
       "3721  An H.I.V. infection increases the odds of dyin...         Health\n",
       "\n",
       "[3722 rows x 2 columns]"
      ]
     },
     "execution_count": 2,
     "metadata": {},
     "output_type": "execute_result"
    }
   ],
   "source": [
    "df = pd.read_csv('../data/outsourced/news_article_categorization.csv')\n",
    "df"
   ]
  },
  {
   "cell_type": "code",
   "execution_count": 28,
   "id": "b01e4682",
   "metadata": {},
   "outputs": [
    {
     "data": {
      "text/plain": [
       "Category\n",
       "entertainment    485\n",
       "business         461\n",
       "sport            454\n",
       "politics         442\n",
       "tech             356\n",
       "Name: count, dtype: int64"
      ]
     },
     "execution_count": 28,
     "metadata": {},
     "output_type": "execute_result"
    }
   ],
   "source": [
    "df['Category'].value_counts()"
   ]
  },
  {
   "cell_type": "code",
   "execution_count": 11,
   "id": "61dffd80",
   "metadata": {},
   "outputs": [],
   "source": [
    "# remove world, science, Health\n",
    "df = df[df['Category'] != 'World']\n",
    "df = df[df['Category'] != 'science']\n",
    "df = df[df['Category'] != 'Health']"
   ]
  },
  {
   "cell_type": "code",
   "execution_count": 27,
   "id": "3705b6c1",
   "metadata": {},
   "outputs": [],
   "source": [
    "\n",
    "df['Category'] = df['Category'].replace('Sport', 'sport')\n",
    "df['Category'] = df['Category'].replace('Business', 'business')\n",
    "df['Category'] = df['Category'].replace('Entertainment', 'entertainment')\n",
    "df['Category'] = df['Category'].replace('Tech', 'tech')\n",
    "df['Category'] = df['Category'].replace('Politics', 'politics')"
   ]
  },
  {
   "cell_type": "code",
   "execution_count": 19,
   "id": "fe2ede27",
   "metadata": {},
   "outputs": [
    {
     "data": {
      "text/plain": [
       "Category\n",
       "sport            857\n",
       "business         846\n",
       "politics         691\n",
       "tech             662\n",
       "entertainment    659\n",
       "Name: count, dtype: int64"
      ]
     },
     "execution_count": 19,
     "metadata": {},
     "output_type": "execute_result"
    }
   ],
   "source": [
    "df2 = pd.read_csv('../data/bbc_news_train.csv')\n",
    "df2['Category'].value_counts()"
   ]
  },
  {
   "cell_type": "code",
   "execution_count": 29,
   "id": "b25052d6",
   "metadata": {},
   "outputs": [
    {
     "data": {
      "text/plain": [
       "Category\n",
       "sport            1311\n",
       "business         1307\n",
       "entertainment    1144\n",
       "politics         1133\n",
       "tech             1018\n",
       "Name: count, dtype: int64"
      ]
     },
     "execution_count": 29,
     "metadata": {},
     "output_type": "execute_result"
    }
   ],
   "source": [
    "#concat the two dataframes\n",
    "df3 = pd.concat([df, df2], ignore_index=True)\n",
    "df3['Category'].value_counts()"
   ]
  },
  {
   "cell_type": "code",
   "execution_count": 31,
   "id": "8645a123",
   "metadata": {},
   "outputs": [],
   "source": [
    "#drop articleId\n",
    "df3 = df3.drop(columns=['ArticleId'], axis=1)"
   ]
  },
  {
   "cell_type": "code",
   "execution_count": 32,
   "id": "26aad1bd",
   "metadata": {},
   "outputs": [],
   "source": [
    "#export the new dataframe\n",
    "df3.to_csv('../data/bbc_news_train.csv', index=False)"
   ]
  },
  {
   "cell_type": "code",
   "execution_count": null,
   "id": "83a0e243",
   "metadata": {},
   "outputs": [],
   "source": []
  }
 ],
 "metadata": {
  "kernelspec": {
   "display_name": "Python 3 (ipykernel)",
   "language": "python",
   "name": "python3"
  },
  "language_info": {
   "codemirror_mode": {
    "name": "ipython",
    "version": 3
   },
   "file_extension": ".py",
   "mimetype": "text/x-python",
   "name": "python",
   "nbconvert_exporter": "python",
   "pygments_lexer": "ipython3",
   "version": "3.11.7"
  }
 },
 "nbformat": 4,
 "nbformat_minor": 5
}
