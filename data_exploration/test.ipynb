{
 "cells": [
  {
   "cell_type": "code",
   "execution_count": 1,
   "id": "fb38358d-56f5-4019-aa80-f6d2fbb706d7",
   "metadata": {},
   "outputs": [],
   "source": [
    "import pandas as pd"
   ]
  },
  {
   "cell_type": "code",
   "execution_count": null,
   "id": "2641bb51",
   "metadata": {},
   "outputs": [],
   "source": []
  },
  {
   "cell_type": "code",
   "execution_count": 14,
   "id": "54c657be",
   "metadata": {},
   "outputs": [
    {
     "name": "stdout",
     "output_type": "stream",
     "text": [
      "   category                                              title  \\\n",
      "0  BUSINESS  U.S. Launches Auto Import Probe, China Vows To...   \n",
      "1  BUSINESS  Starbucks Says Anyone Can Now Sit In Its Cafes...   \n",
      "2  BUSINESS  Seattle Passes Controversial New Tax On City's...   \n",
      "3  BUSINESS  Uber Ends Forced Arbitration In Individual Cas...   \n",
      "4  BUSINESS      How Uber Silences Women After Sexual Assaults   \n",
      "\n",
      "                                                body  \n",
      "0  WASHINGTON (Reuters) - The Donald Trump admini...  \n",
      "1  Starbucks announced a new policy of inclusivit...  \n",
      "2  SEATTLE (Reuters) - Seattle’s city council on ...  \n",
      "3  Uber will no longer force individual victims o...  \n",
      "4  Sophia started using Uber soon after it was fo...  \n"
     ]
    }
   ],
   "source": [
    "import csv\n",
    "\n",
    "\n",
    "file_path = '../data/outsourced/news-article-categories.csv'\n",
    "categories = ['BUSINESS', 'ENTERTAINMENT', 'POLITICS', 'SPORTS', 'TECH']\n",
    "\n",
    "filtered_lines = []\n",
    "with open(file_path, 'r', newline='', encoding='utf-8') as file:\n",
    "    reader = csv.reader(file, delimiter=',', quotechar='\"')\n",
    "    for row in reader:\n",
    "        # Check if the first element of the row is a category\n",
    "        if row[0] in categories:\n",
    "            filtered_lines.append(row)\n",
    "\n",
    "# Create a DataFrame from the filtered lines\n",
    "df = pd.DataFrame(filtered_lines, columns=['category', 'title', 'body'])\n",
    "\n",
    "print(df.head())\n",
    "\n",
    "# Save the DataFrame to a CSV file\n",
    "df.to_csv('../data/outsourced/news-article-categories-filtered.csv', index=False)\n"
   ]
  },
  {
   "cell_type": "code",
   "execution_count": 16,
   "id": "00fdff24",
   "metadata": {},
   "outputs": [
    {
     "data": {
      "text/plain": [
       "category\n",
       "BUSINESS         501\n",
       "ENTERTAINMENT    501\n",
       "POLITICS         501\n",
       "SPORTS           501\n",
       "TECH             501\n",
       "Name: count, dtype: int64"
      ]
     },
     "execution_count": 16,
     "metadata": {},
     "output_type": "execute_result"
    }
   ],
   "source": [
    "df['category'].value_counts()"
   ]
  },
  {
   "cell_type": "code",
   "execution_count": 17,
   "id": "e308f1b3",
   "metadata": {},
   "outputs": [],
   "source": [
    "df = df[df['category'].isin(['POLITICS', 'ENTERTAINMENT', 'COMEDY', 'BUSINESS', 'TECH'])]"
   ]
  },
  {
   "cell_type": "code",
   "execution_count": 18,
   "id": "76b7f858",
   "metadata": {},
   "outputs": [],
   "source": [
    "#rename the categories\n",
    "rename_dict = {\n",
    "    'POLITICS': 'politics',\n",
    "    'ENTERTAINMENT': 'entertainment',\n",
    "    'COMEDY': 'entertainment',\n",
    "    'BUSINESS': 'business',\n",
    "    'TECH': 'tech'\n",
    "}\n",
    "df['category'] = df['category'].replace(rename_dict)"
   ]
  },
  {
   "cell_type": "code",
   "execution_count": 19,
   "id": "e6dfc6c9",
   "metadata": {},
   "outputs": [
    {
     "data": {
      "text/plain": [
       "category\n",
       "business         501\n",
       "entertainment    501\n",
       "politics         501\n",
       "tech             501\n",
       "Name: count, dtype: int64"
      ]
     },
     "execution_count": 19,
     "metadata": {},
     "output_type": "execute_result"
    }
   ],
   "source": [
    "df['category'].value_counts()"
   ]
  },
  {
   "cell_type": "code",
   "execution_count": 22,
   "id": "6734b48c",
   "metadata": {},
   "outputs": [
    {
     "data": {
      "text/plain": [
       "Index(['Category', 'title', 'body'], dtype='object')"
      ]
     },
     "execution_count": 22,
     "metadata": {},
     "output_type": "execute_result"
    }
   ],
   "source": [
    "df.columns"
   ]
  },
  {
   "cell_type": "code",
   "execution_count": 21,
   "id": "43e74164",
   "metadata": {},
   "outputs": [],
   "source": [
    "df = df.rename(columns={'category': 'Category'})"
   ]
  },
  {
   "cell_type": "code",
   "execution_count": 23,
   "id": "a4be5dfd",
   "metadata": {},
   "outputs": [],
   "source": [
    "df = df.rename(columns={'body': 'Text'})"
   ]
  },
  {
   "cell_type": "code",
   "execution_count": 24,
   "id": "9b2be388",
   "metadata": {},
   "outputs": [],
   "source": [
    "#drop title column\n",
    "df = df.drop(columns=['title'])"
   ]
  },
  {
   "cell_type": "code",
   "execution_count": 25,
   "id": "01654658",
   "metadata": {},
   "outputs": [
    {
     "data": {
      "text/plain": [
       "Category\n",
       "sport            1311\n",
       "business         1307\n",
       "entertainment    1144\n",
       "politics         1133\n",
       "tech             1018\n",
       "Name: count, dtype: int64"
      ]
     },
     "execution_count": 25,
     "metadata": {},
     "output_type": "execute_result"
    }
   ],
   "source": [
    "train_df = pd.read_csv('../data/bbc_news_train.csv')\n",
    "train_df['Category'].value_counts()"
   ]
  },
  {
   "cell_type": "code",
   "execution_count": null,
   "id": "58a9d109",
   "metadata": {},
   "outputs": [],
   "source": [
    "train_df.info()"
   ]
  },
  {
   "cell_type": "code",
   "execution_count": 29,
   "id": "023d2c95",
   "metadata": {},
   "outputs": [
    {
     "data": {
      "text/plain": [
       "Index(['Text', 'Category'], dtype='object')"
      ]
     },
     "execution_count": 29,
     "metadata": {},
     "output_type": "execute_result"
    }
   ],
   "source": [
    "train_df.columns"
   ]
  },
  {
   "cell_type": "code",
   "execution_count": 27,
   "id": "27ce178d",
   "metadata": {},
   "outputs": [
    {
     "data": {
      "text/plain": [
       "Index(['Category', 'Text'], dtype='object')"
      ]
     },
     "execution_count": 27,
     "metadata": {},
     "output_type": "execute_result"
    }
   ],
   "source": [
    "df.columns"
   ]
  },
  {
   "cell_type": "code",
   "execution_count": 28,
   "id": "3bd8b71e",
   "metadata": {},
   "outputs": [],
   "source": [
    "# concatenate the two dataframes\n",
    "train_df = pd.concat([train_df, df], ignore_index=True)"
   ]
  },
  {
   "cell_type": "code",
   "execution_count": null,
   "id": "7d989ee1",
   "metadata": {},
   "outputs": [],
   "source": [
    "train_df['Category'].value_counts()"
   ]
  },
  {
   "cell_type": "code",
   "execution_count": null,
   "id": "a40ed82b",
   "metadata": {},
   "outputs": [],
   "source": [
    "train_df.columns"
   ]
  },
  {
   "cell_type": "code",
   "execution_count": null,
   "id": "37ae5715",
   "metadata": {},
   "outputs": [],
   "source": [
    "train_df.shape"
   ]
  },
  {
   "cell_type": "code",
   "execution_count": 30,
   "id": "f362551f",
   "metadata": {},
   "outputs": [],
   "source": [
    "train_df = train_df.dropna(subset=['Category'])"
   ]
  },
  {
   "cell_type": "code",
   "execution_count": 31,
   "id": "f64e8f71",
   "metadata": {},
   "outputs": [],
   "source": [
    "# save the new dataframe\n",
    "train_df.to_csv('../data/bbc_news_train_2.csv', index=False)"
   ]
  },
  {
   "cell_type": "code",
   "execution_count": 32,
   "id": "2f65c1aa",
   "metadata": {},
   "outputs": [
    {
     "data": {
      "text/html": [
       "<div>\n",
       "<style scoped>\n",
       "    .dataframe tbody tr th:only-of-type {\n",
       "        vertical-align: middle;\n",
       "    }\n",
       "\n",
       "    .dataframe tbody tr th {\n",
       "        vertical-align: top;\n",
       "    }\n",
       "\n",
       "    .dataframe thead th {\n",
       "        text-align: right;\n",
       "    }\n",
       "</style>\n",
       "<table border=\"1\" class=\"dataframe\">\n",
       "  <thead>\n",
       "    <tr style=\"text-align: right;\">\n",
       "      <th></th>\n",
       "      <th>Text</th>\n",
       "      <th>Category</th>\n",
       "    </tr>\n",
       "  </thead>\n",
       "  <tbody>\n",
       "    <tr>\n",
       "      <th>0</th>\n",
       "      <td>Elon Musk, Amber Heard Something's Fishy On Wr...</td>\n",
       "      <td>entertainment</td>\n",
       "    </tr>\n",
       "    <tr>\n",
       "      <th>1</th>\n",
       "      <td>Jared Fogle Shut Down By Judge In Bid for Earl...</td>\n",
       "      <td>entertainment</td>\n",
       "    </tr>\n",
       "    <tr>\n",
       "      <th>2</th>\n",
       "      <td>Credit...Jim Wilson/The New York TimesJune 30,...</td>\n",
       "      <td>politics</td>\n",
       "    </tr>\n",
       "    <tr>\n",
       "      <th>3</th>\n",
       "      <td>Before Coming Out, a Hard Time Growing UpVideo...</td>\n",
       "      <td>sport</td>\n",
       "    </tr>\n",
       "    <tr>\n",
       "      <th>4</th>\n",
       "      <td>Fortnites parent company, Epic Games, had brok...</td>\n",
       "      <td>tech</td>\n",
       "    </tr>\n",
       "  </tbody>\n",
       "</table>\n",
       "</div>"
      ],
      "text/plain": [
       "                                                Text       Category\n",
       "0  Elon Musk, Amber Heard Something's Fishy On Wr...  entertainment\n",
       "1  Jared Fogle Shut Down By Judge In Bid for Earl...  entertainment\n",
       "2  Credit...Jim Wilson/The New York TimesJune 30,...       politics\n",
       "3  Before Coming Out, a Hard Time Growing UpVideo...          sport\n",
       "4  Fortnites parent company, Epic Games, had brok...           tech"
      ]
     },
     "execution_count": 32,
     "metadata": {},
     "output_type": "execute_result"
    }
   ],
   "source": [
    "train_df.head()"
   ]
  },
  {
   "cell_type": "code",
   "execution_count": 33,
   "id": "ebecbf16",
   "metadata": {},
   "outputs": [
    {
     "data": {
      "text/html": [
       "<div>\n",
       "<style scoped>\n",
       "    .dataframe tbody tr th:only-of-type {\n",
       "        vertical-align: middle;\n",
       "    }\n",
       "\n",
       "    .dataframe tbody tr th {\n",
       "        vertical-align: top;\n",
       "    }\n",
       "\n",
       "    .dataframe thead th {\n",
       "        text-align: right;\n",
       "    }\n",
       "</style>\n",
       "<table border=\"1\" class=\"dataframe\">\n",
       "  <thead>\n",
       "    <tr style=\"text-align: right;\">\n",
       "      <th></th>\n",
       "      <th>Text</th>\n",
       "      <th>Category</th>\n",
       "    </tr>\n",
       "  </thead>\n",
       "  <tbody>\n",
       "    <tr>\n",
       "      <th>0</th>\n",
       "      <td>Elon Musk, Amber Heard Something's Fishy On Wr...</td>\n",
       "      <td>entertainment</td>\n",
       "    </tr>\n",
       "    <tr>\n",
       "      <th>1</th>\n",
       "      <td>Jared Fogle Shut Down By Judge In Bid for Earl...</td>\n",
       "      <td>entertainment</td>\n",
       "    </tr>\n",
       "    <tr>\n",
       "      <th>2</th>\n",
       "      <td>Credit...Jim Wilson/The New York TimesJune 30,...</td>\n",
       "      <td>politics</td>\n",
       "    </tr>\n",
       "    <tr>\n",
       "      <th>3</th>\n",
       "      <td>Before Coming Out, a Hard Time Growing UpVideo...</td>\n",
       "      <td>sport</td>\n",
       "    </tr>\n",
       "    <tr>\n",
       "      <th>4</th>\n",
       "      <td>Fortnites parent company, Epic Games, had brok...</td>\n",
       "      <td>tech</td>\n",
       "    </tr>\n",
       "  </tbody>\n",
       "</table>\n",
       "</div>"
      ],
      "text/plain": [
       "                                                Text       Category\n",
       "0  Elon Musk, Amber Heard Something's Fishy On Wr...  entertainment\n",
       "1  Jared Fogle Shut Down By Judge In Bid for Earl...  entertainment\n",
       "2  Credit...Jim Wilson/The New York TimesJune 30,...       politics\n",
       "3  Before Coming Out, a Hard Time Growing UpVideo...          sport\n",
       "4  Fortnites parent company, Epic Games, had brok...           tech"
      ]
     },
     "execution_count": 33,
     "metadata": {},
     "output_type": "execute_result"
    }
   ],
   "source": [
    "new_df = pd.read_csv('../data/bbc_news_train_2.csv')\n",
    "new_df.head()"
   ]
  },
  {
   "cell_type": "code",
   "execution_count": null,
   "id": "5a3b3a1c",
   "metadata": {},
   "outputs": [],
   "source": []
  }
 ],
 "metadata": {
  "kernelspec": {
   "display_name": "Python 3 (ipykernel)",
   "language": "python",
   "name": "python3"
  },
  "language_info": {
   "codemirror_mode": {
    "name": "ipython",
    "version": 3
   },
   "file_extension": ".py",
   "mimetype": "text/x-python",
   "name": "python",
   "nbconvert_exporter": "python",
   "pygments_lexer": "ipython3",
   "version": "3.12.3"
  }
 },
 "nbformat": 4,
 "nbformat_minor": 5
}
