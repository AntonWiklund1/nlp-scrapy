{
 "cells": [
  {
   "cell_type": "code",
   "execution_count": 2,
   "id": "fb38358d-56f5-4019-aa80-f6d2fbb706d7",
   "metadata": {},
   "outputs": [],
   "source": [
    "import pandas as pd"
   ]
  },
  {
   "cell_type": "code",
   "execution_count": 3,
   "id": "2641bb51",
   "metadata": {},
   "outputs": [
    {
     "data": {
      "text/plain": [
       "Category\n",
       "sport            1311\n",
       "business         1307\n",
       "entertainment    1144\n",
       "politics         1133\n",
       "tech             1018\n",
       "Name: count, dtype: int64"
      ]
     },
     "execution_count": 3,
     "metadata": {},
     "output_type": "execute_result"
    }
   ],
   "source": [
    "df = pd.read_csv('../data/bbc_news_train.csv')\n",
    "df.value_counts('Category')"
   ]
  },
  {
   "cell_type": "code",
   "execution_count": 4,
   "id": "1d754712",
   "metadata": {},
   "outputs": [
    {
     "data": {
      "text/plain": [
       "Category\n",
       "politics         138\n",
       "entertainment     79\n",
       "business          77\n",
       "tech              76\n",
       "Name: count, dtype: int64"
      ]
     },
     "execution_count": 4,
     "metadata": {},
     "output_type": "execute_result"
    }
   ],
   "source": [
    "df_scraped = pd.read_csv('../data/scraped/bbc_articles.csv')\n",
    "df_scraped.value_counts('Category')"
   ]
  },
  {
   "cell_type": "code",
   "execution_count": null,
   "id": "04cb97ab",
   "metadata": {},
   "outputs": [],
   "source": []
  }
 ],
 "metadata": {
  "kernelspec": {
   "display_name": "Python 3 (ipykernel)",
   "language": "python",
   "name": "python3"
  },
  "language_info": {
   "codemirror_mode": {
    "name": "ipython",
    "version": 3
   },
   "file_extension": ".py",
   "mimetype": "text/x-python",
   "name": "python",
   "nbconvert_exporter": "python",
   "pygments_lexer": "ipython3",
   "version": "3.12.3"
  }
 },
 "nbformat": 4,
 "nbformat_minor": 5
}
